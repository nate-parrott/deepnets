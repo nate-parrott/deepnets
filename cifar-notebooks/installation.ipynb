{
 "cells": [
  {
   "cell_type": "code",
   "execution_count": 1,
   "metadata": {
    "collapsed": false
   },
   "outputs": [
    {
     "name": "stdout",
     "output_type": "stream",
     "text": [
      "Collecting tensorflow==0.12.0 from https://storage.googleapis.com/tensorflow/linux/cpu/tensorflow-0.12.0-cp27-none-linux_x86_64.whl\n",
      "  Downloading https://storage.googleapis.com/tensorflow/linux/cpu/tensorflow-0.12.0-cp27-none-linux_x86_64.whl (43.1MB)\n",
      "\u001b[K    100% |################################| 43.1MB 29kB/s \n",
      "\u001b[?25hCollecting mock>=2.0.0 (from tensorflow==0.12.0)\n",
      "  Using cached mock-2.0.0-py2.py3-none-any.whl\n",
      "Collecting numpy>=1.11.0 (from tensorflow==0.12.0)\n",
      "  Using cached numpy-1.11.3-cp27-cp27mu-manylinux1_x86_64.whl\n",
      "Collecting protobuf==3.1.0 (from tensorflow==0.12.0)\n",
      "  Downloading protobuf-3.1.0-py2.py3-none-any.whl (339kB)\n",
      "\u001b[K    100% |################################| 348kB 2.7MB/s \n",
      "\u001b[?25hCollecting wheel (from tensorflow==0.12.0)\n",
      "  Using cached wheel-0.29.0-py2.py3-none-any.whl\n",
      "Collecting six>=1.10.0 (from tensorflow==0.12.0)\n",
      "  Using cached six-1.10.0-py2.py3-none-any.whl\n",
      "Collecting funcsigs>=1; python_version < \"3.3\" (from mock>=2.0.0->tensorflow==0.12.0)\n",
      "  Using cached funcsigs-1.0.2-py2.py3-none-any.whl\n",
      "Collecting pbr>=0.11 (from mock>=2.0.0->tensorflow==0.12.0)\n",
      "  Using cached pbr-1.10.0-py2.py3-none-any.whl\n",
      "Collecting setuptools (from protobuf==3.1.0->tensorflow==0.12.0)\n",
      "  Using cached setuptools-32.3.0-py2.py3-none-any.whl\n",
      "Installing collected packages: six, funcsigs, pbr, mock, numpy, setuptools, protobuf, wheel, tensorflow\n",
      "Successfully installed funcsigs-1.0.2 mock-2.0.0 numpy-1.11.3 pbr-1.10.0 protobuf-3.0.0 setuptools-32.3.0 six-1.10.0 tensorflow-0.12.0 wheel-0.29.0\n",
      "\u001b[33mYou are using pip version 8.1.2, however version 9.0.1 is available.\n",
      "You should consider upgrading via the 'pip install --upgrade pip' command.\u001b[0m\n"
     ]
    }
   ],
   "source": [
    "!pip install --ignore-installed --upgrade https://storage.googleapis.com/tensorflow/linux/cpu/tensorflow-0.12.0-cp27-none-linux_x86_64.whl"
   ]
  },
  {
   "cell_type": "code",
   "execution_count": 4,
   "metadata": {
    "collapsed": false
   },
   "outputs": [
    {
     "name": "stdout",
     "output_type": "stream",
     "text": [
      "0.12.0\n"
     ]
    }
   ],
   "source": [
    "import tensorflow as tf\n",
    "print tf.__version__"
   ]
  },
  {
   "cell_type": "code",
   "execution_count": 3,
   "metadata": {
    "collapsed": false
   },
   "outputs": [
    {
     "name": "stdout",
     "output_type": "stream",
     "text": [
      "Collecting pandas\n",
      "  Downloading pandas-0.19.2-cp27-cp27mu-manylinux1_x86_64.whl (17.2MB)\n",
      "\u001b[K    100% |################################| 17.2MB 61kB/s \n",
      "\u001b[?25hCollecting pytz>=2011k (from pandas)\n",
      "  Downloading pytz-2016.10-py2.py3-none-any.whl (483kB)\n",
      "\u001b[K    100% |################################| 491kB 2.6MB/s \n",
      "\u001b[?25hCollecting python-dateutil (from pandas)\n",
      "  Downloading python_dateutil-2.6.0-py2.py3-none-any.whl (194kB)\n",
      "\u001b[K    100% |################################| 194kB 5.2MB/s \n",
      "\u001b[?25hRequirement already up-to-date: numpy>=1.7.0 in /home/nbcommon/anaconda2_410/lib/python2.7/site-packages (from pandas)\n",
      "Requirement already up-to-date: six>=1.5 in /home/nbcommon/anaconda2_410/lib/python2.7/site-packages (from python-dateutil->pandas)\n",
      "Installing collected packages: pytz, python-dateutil, pandas\n",
      "  Found existing installation: pytz 2016.4\n",
      "\u001b[33m    DEPRECATION: Uninstalling a distutils installed project (pytz) has been deprecated and will be removed in a future version. This is due to the fact that uninstalling a distutils project will only partially uninstall the project.\u001b[0m\n",
      "    Uninstalling pytz-2016.4:\n",
      "      Successfully uninstalled pytz-2016.4\n",
      "  Found existing installation: python-dateutil 2.5.3\n",
      "    Uninstalling python-dateutil-2.5.3:\n",
      "      Successfully uninstalled python-dateutil-2.5.3\n",
      "  Found existing installation: pandas 0.18.1\n",
      "    Uninstalling pandas-0.18.1:\n",
      "      Successfully uninstalled pandas-0.18.1\n",
      "Successfully installed pandas-0.19.2 python-dateutil-2.6.0 pytz-2016.10\n",
      "\u001b[33mYou are using pip version 8.1.2, however version 9.0.1 is available.\n",
      "You should consider upgrading via the 'pip install --upgrade pip' command.\u001b[0m\n"
     ]
    }
   ],
   "source": [
    "!pip install --upgrade pandas"
   ]
  },
  {
   "cell_type": "code",
   "execution_count": 2,
   "metadata": {
    "collapsed": true
   },
   "outputs": [],
   "source": [
    "import tensorflow as tf"
   ]
  },
  {
   "cell_type": "code",
   "execution_count": 3,
   "metadata": {
    "collapsed": false
   },
   "outputs": [
    {
     "data": {
      "text/plain": [
       "<module 'tensorflow.python.ops.nn' from '/home/nbuser/anaconda2_410/lib/python2.7/site-packages/tensorflow/python/ops/nn.pyc'>"
      ]
     },
     "execution_count": 3,
     "metadata": {},
     "output_type": "execute_result"
    }
   ],
   "source": [
    "tf.nn"
   ]
  },
  {
   "cell_type": "code",
   "execution_count": null,
   "metadata": {
    "collapsed": true
   },
   "outputs": [],
   "source": []
  }
 ],
 "metadata": {
  "kernelspec": {
   "display_name": "Python 2",
   "language": "python",
   "name": "python2"
  },
  "language_info": {
   "codemirror_mode": {
    "name": "ipython",
    "version": 2
   },
   "file_extension": ".py",
   "mimetype": "text/x-python",
   "name": "python",
   "nbconvert_exporter": "python",
   "pygments_lexer": "ipython2",
   "version": "2.7.11"
  }
 },
 "nbformat": 4,
 "nbformat_minor": 2
}
